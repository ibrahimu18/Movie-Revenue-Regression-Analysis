{
 "cells": [
  {
   "cell_type": "code",
   "execution_count": 34,
   "id": "1cf06ccc",
   "metadata": {},
   "outputs": [],
   "source": [
    "import numpy as np\n",
    "import pandas as pd\n",
    "import seaborn as sns\n",
    "import matplotlib.pyplot as plt\n",
    "from sklearn.pipeline import Pipeline\n",
    "from sklearn.linear_model import LassoCV\n",
    "from sklearn.linear_model import RidgeCV\n",
    "from sklearn.linear_model import ElasticNetCV\n",
    "from sklearn.model_selection import train_test_split\n",
    "from sklearn.preprocessing import StandardScaler, PolynomialFeatures\n",
    "from sklearn.metrics import mean_absolute_error, mean_squared_error, r2_score\n",
    "from sklearn.linear_model import (LinearRegression, Ridge, Lasso, ElasticNet, HuberRegressor)\n",
    "from statsmodels.stats.outliers_influence import variance_inflation_factor"
   ]
  },
  {
   "cell_type": "markdown",
   "id": "a9ea71ce",
   "metadata": {},
   "source": [
    "# Additional Regression Analysis"
   ]
  },
  {
   "cell_type": "code",
   "execution_count": 35,
   "id": "32e4eb9a",
   "metadata": {},
   "outputs": [],
   "source": [
    "df = pd.read_csv(\"Cleaned TMDB Dataset.csv\")\n",
    "df = df.drop(columns=['title'])\n",
    "df = pd.get_dummies(df, columns=['genres'], drop_first=True)\n",
    "\n",
    "X = df.drop(columns=['revenue'])\n",
    "y = df['revenue']\n",
    "X_train, X_test, y_train, y_test = train_test_split(X, y, test_size=0.2, random_state=1)\n",
    "\n",
    "scaler = StandardScaler()\n",
    "X_train_scaler = scaler.fit_transform(X_train)\n",
    "X_test_scaler = scaler.transform(X_test)\n",
    "\n",
    "def performance(y_true, y_pred, model_name=\"Model\"):\n",
    "    mae = mean_absolute_error(y_true, y_pred)\n",
    "    mse = mean_squared_error(y_true, y_pred)\n",
    "    rmse = np.sqrt(mse)\n",
    "    r2 = r2_score(y_true, y_pred)\n",
    "\n",
    "    print(f\"MAE  = {mae:.2f}\")\n",
    "    print(f\"MSE  = {mse:.2f}\")\n",
    "    print(f\"RMSE = {rmse:.2f}\")\n",
    "    print(f\"R²   = {r2:.5f}\")"
   ]
  },
  {
   "cell_type": "markdown",
   "id": "5629831e",
   "metadata": {},
   "source": [
    "## Robust Regression"
   ]
  },
  {
   "cell_type": "code",
   "execution_count": 36,
   "id": "68d1e427",
   "metadata": {},
   "outputs": [
    {
     "name": "stdout",
     "output_type": "stream",
     "text": [
      "MAE  = 44374739.96\n",
      "MSE  = 16216612101825666.00\n",
      "RMSE = 127344462.39\n",
      "R²   = 0.40050\n"
     ]
    }
   ],
   "source": [
    "robust_model = HuberRegressor()\n",
    "robust_model.fit(X_train_scaler, y_train)\n",
    "y_pred = robust_model.predict(X_test_scaler)\n",
    "performance(y_test, y_pred, model_name=\"Robust Regression\")"
   ]
  },
  {
   "cell_type": "markdown",
   "id": "10254832",
   "metadata": {},
   "source": [
    "## Ridge Regression"
   ]
  },
  {
   "cell_type": "code",
   "execution_count": 37,
   "id": "fed46b95",
   "metadata": {},
   "outputs": [
    {
     "name": "stdout",
     "output_type": "stream",
     "text": [
      "MAE  = 42107769.96\n",
      "MSE  = 8328182681729332.00\n",
      "RMSE = 91258877.28\n",
      "R²   = 0.69212\n"
     ]
    }
   ],
   "source": [
    "lasso_cv = LassoCV(alphas=np.logspace(-2, 3, 100), cv=5, max_iter=10000)\n",
    "lasso_cv.fit(X_train_scaler, y_train)\n",
    "y_pred = lasso_cv.predict(X_test_scaler)\n",
    "performance(y_test, y_pred, model_name=\"LassoCV\")"
   ]
  },
  {
   "cell_type": "markdown",
   "id": "a886a7c0",
   "metadata": {},
   "source": [
    "## Lasso Regression"
   ]
  },
  {
   "cell_type": "code",
   "execution_count": 38,
   "id": "eb9c5e12",
   "metadata": {},
   "outputs": [
    {
     "name": "stdout",
     "output_type": "stream",
     "text": [
      "MAE  = 41840861.00\n",
      "MSE  = 8327797246062684.00\n",
      "RMSE = 91256765.48\n",
      "R²   = 0.69214\n"
     ]
    }
   ],
   "source": [
    "ridge_cv = RidgeCV(alphas=np.logspace(-2, 3, 100), cv=5)\n",
    "ridge_cv.fit(X_train_scaler, y_train)\n",
    "y_pred = ridge_cv.predict(X_test_scaler)\n",
    "performance(y_test, y_pred, model_name=\"RidgeCV\")"
   ]
  },
  {
   "cell_type": "markdown",
   "id": "4bdd1b62",
   "metadata": {},
   "source": [
    "## Elastic Net Regression Model"
   ]
  },
  {
   "cell_type": "code",
   "execution_count": 39,
   "id": "458cab1a",
   "metadata": {},
   "outputs": [
    {
     "name": "stdout",
     "output_type": "stream",
     "text": [
      "MAE  = 41945075.77\n",
      "MSE  = 8327558004406748.00\n",
      "RMSE = 91255454.66\n",
      "R²   = 0.69215\n"
     ]
    }
   ],
   "source": [
    "# Elastic Net with CV tuning for alpha and l1_ratio\n",
    "elastic_net_cv = ElasticNetCV(alphas=np.logspace(-2, 3, 100),\n",
    "                              l1_ratio=[0.1, 0.5, 0.7, 0.9, 1.0],  \n",
    "                              cv=5, max_iter=10000)\n",
    "elastic_net_cv.fit(X_train_scaler, y_train)\n",
    "y_pred = elastic_net_cv.predict(X_test_scaler)\n",
    "performance(y_test, y_pred, model_name=\"Elastic Net CV\")"
   ]
  },
  {
   "cell_type": "markdown",
   "id": "56b5eed3",
   "metadata": {},
   "source": [
    "## Compare Results"
   ]
  },
  {
   "cell_type": "code",
   "execution_count": 40,
   "id": "2e96cdc9",
   "metadata": {},
   "outputs": [
    {
     "data": {
      "text/html": [
       "<div>\n",
       "<style scoped>\n",
       "    .dataframe tbody tr th:only-of-type {\n",
       "        vertical-align: middle;\n",
       "    }\n",
       "\n",
       "    .dataframe tbody tr th {\n",
       "        vertical-align: top;\n",
       "    }\n",
       "\n",
       "    .dataframe thead th {\n",
       "        text-align: right;\n",
       "    }\n",
       "</style>\n",
       "<table border=\"1\" class=\"dataframe\">\n",
       "  <thead>\n",
       "    <tr style=\"text-align: right;\">\n",
       "      <th></th>\n",
       "      <th>Model</th>\n",
       "      <th>MAE</th>\n",
       "      <th>MSE</th>\n",
       "      <th>RMSE</th>\n",
       "      <th>R²</th>\n",
       "    </tr>\n",
       "  </thead>\n",
       "  <tbody>\n",
       "    <tr>\n",
       "      <th>0</th>\n",
       "      <td>Robust Regression</td>\n",
       "      <td>44374739.96</td>\n",
       "      <td>16216612101825666</td>\n",
       "      <td>127344462.39</td>\n",
       "      <td>0.40050</td>\n",
       "    </tr>\n",
       "    <tr>\n",
       "      <th>1</th>\n",
       "      <td>Ridge Regression</td>\n",
       "      <td>41840861.00</td>\n",
       "      <td>8327797246062684</td>\n",
       "      <td>91256765.48</td>\n",
       "      <td>0.69214</td>\n",
       "    </tr>\n",
       "    <tr>\n",
       "      <th>2</th>\n",
       "      <td>Lasso Regression</td>\n",
       "      <td>42107769.96</td>\n",
       "      <td>8328182681729332</td>\n",
       "      <td>91258877.28</td>\n",
       "      <td>0.69212</td>\n",
       "    </tr>\n",
       "    <tr>\n",
       "      <th>3</th>\n",
       "      <td>Elastic Net Regression</td>\n",
       "      <td>41945075.77</td>\n",
       "      <td>8327558004406748</td>\n",
       "      <td>91255454.66</td>\n",
       "      <td>0.69215</td>\n",
       "    </tr>\n",
       "  </tbody>\n",
       "</table>\n",
       "</div>"
      ],
      "text/plain": [
       "                    Model          MAE                MSE          RMSE  \\\n",
       "0       Robust Regression  44374739.96  16216612101825666  127344462.39   \n",
       "1        Ridge Regression  41840861.00   8327797246062684   91256765.48   \n",
       "2        Lasso Regression  42107769.96   8328182681729332   91258877.28   \n",
       "3  Elastic Net Regression  41945075.77   8327558004406748   91255454.66   \n",
       "\n",
       "        R²  \n",
       "0  0.40050  \n",
       "1  0.69214  \n",
       "2  0.69212  \n",
       "3  0.69215  "
      ]
     },
     "metadata": {},
     "output_type": "display_data"
    }
   ],
   "source": [
    "def return_performance(y_true, y_pred, model_name):\n",
    "    mae = mean_absolute_error(y_true, y_pred)\n",
    "    mse = mean_squared_error(y_true, y_pred)\n",
    "    rmse = np.sqrt(mse)\n",
    "    r2 = r2_score(y_true, y_pred)\n",
    "    return {\"Model\": model_name,\"MAE\": mae, \"MSE\": mse, \"RMSE\": rmse, \"R²\": r2}\n",
    "\n",
    "results = [return_performance(y_test, robust_model.predict(X_test_scaler), \"Robust Regression\"),\n",
    "           return_performance(y_test, ridge_cv.predict(X_test_scaler), \"Ridge Regression\"),\n",
    "           return_performance(y_test, lasso_cv.predict(X_test_scaler), \"Lasso Regression\"),\n",
    "           return_performance(y_test, elastic_net_cv.predict(X_test_scaler), \"Elastic Net Regression\")]\n",
    "\n",
    "results_df = pd.DataFrame(results)\n",
    "results_df[\"MAE\"] = results_df[\"MAE\"].apply(lambda x: f\"{x:.2f}\")\n",
    "results_df[\"MSE\"] = results_df[\"MSE\"].apply(lambda x: f\"{x:.0f}\")\n",
    "results_df[\"RMSE\"] = results_df[\"RMSE\"].apply(lambda x: f\"{x:.2f}\")\n",
    "results_df[\"R²\"] = results_df[\"R²\"].round(5)\n",
    "results_df = results_df[[\"Model\", \"MAE\", \"MSE\", \"RMSE\", \"R²\"]]\n",
    "display(results_df)"
   ]
  }
 ],
 "metadata": {
  "kernelspec": {
   "display_name": "movieproject",
   "language": "python",
   "name": "python3"
  },
  "language_info": {
   "codemirror_mode": {
    "name": "ipython",
    "version": 3
   },
   "file_extension": ".py",
   "mimetype": "text/x-python",
   "name": "python",
   "nbconvert_exporter": "python",
   "pygments_lexer": "ipython3",
   "version": "3.12.3"
  }
 },
 "nbformat": 4,
 "nbformat_minor": 5
}
